{
 "cells": [
  {
   "cell_type": "code",
   "execution_count": 89,
   "id": "5bd31c49-0935-4b2e-aefc-65b40d54c9b3",
   "metadata": {},
   "outputs": [],
   "source": [
    "import pandas as pd\n",
    "import os \n"
   ]
  },
  {
   "cell_type": "code",
   "execution_count": 90,
   "metadata": {},
   "outputs": [
    {
     "data": {
      "text/plain": [
       "('archive/aac_intakes.csv',\n",
       " 'archive/aac_intakes_outcomes.csv',\n",
       " 'archive/aac_outcomes.csv')"
      ]
     },
     "execution_count": 90,
     "metadata": {},
     "output_type": "execute_result"
    }
   ],
   "source": [
    "prefix = r'archive/'\n",
    "\n",
    "intakesCsv = os.path.join(prefix, r'aac_intakes.csv')\n",
    "\n",
    "intakesOutcomesCsv = os.path.join(prefix, r'aac_intakes_outcomes.csv')\n",
    "\n",
    "outcomesCsv = os.path.join(prefix, r'aac_outcomes.csv')\n",
    "\n",
    "intakesCsv, intakesOutcomesCsv, outcomesCsv"
   ]
  },
  {
   "cell_type": "code",
   "execution_count": 170,
   "metadata": {},
   "outputs": [
    {
     "data": {
      "text/html": [
       "<div>\n",
       "<style scoped>\n",
       "    .dataframe tbody tr th:only-of-type {\n",
       "        vertical-align: middle;\n",
       "    }\n",
       "\n",
       "    .dataframe tbody tr th {\n",
       "        vertical-align: top;\n",
       "    }\n",
       "\n",
       "    .dataframe thead th {\n",
       "        text-align: right;\n",
       "    }\n",
       "</style>\n",
       "<table border=\"1\" class=\"dataframe\">\n",
       "  <thead>\n",
       "    <tr style=\"text-align: right;\">\n",
       "      <th></th>\n",
       "      <th>animal_id</th>\n",
       "      <th>animal_type</th>\n",
       "      <th>breed</th>\n",
       "      <th>color</th>\n",
       "      <th>datetime</th>\n",
       "      <th>datetime2</th>\n",
       "      <th>found_location</th>\n",
       "      <th>intake_condition</th>\n",
       "      <th>intake_type</th>\n",
       "      <th>name</th>\n",
       "      <th>sex_upon_intake</th>\n",
       "    </tr>\n",
       "    <tr>\n",
       "      <th>age_upon_intake</th>\n",
       "      <th></th>\n",
       "      <th></th>\n",
       "      <th></th>\n",
       "      <th></th>\n",
       "      <th></th>\n",
       "      <th></th>\n",
       "      <th></th>\n",
       "      <th></th>\n",
       "      <th></th>\n",
       "      <th></th>\n",
       "      <th></th>\n",
       "    </tr>\n",
       "  </thead>\n",
       "  <tbody>\n",
       "    <tr>\n",
       "      <th>8 years</th>\n",
       "      <td>A706918</td>\n",
       "      <td>Dog</td>\n",
       "      <td>English Springer Spaniel</td>\n",
       "      <td>White/Liver</td>\n",
       "      <td>2015-07-05T12:59:00.000</td>\n",
       "      <td>2015-07-05T12:59:00.000</td>\n",
       "      <td>9409 Bluegrass Dr in Austin (TX)</td>\n",
       "      <td>Normal</td>\n",
       "      <td>Stray</td>\n",
       "      <td>Belle</td>\n",
       "      <td>Spayed Female</td>\n",
       "    </tr>\n",
       "    <tr>\n",
       "      <th>11 months</th>\n",
       "      <td>A724273</td>\n",
       "      <td>Dog</td>\n",
       "      <td>Basenji Mix</td>\n",
       "      <td>Sable/White</td>\n",
       "      <td>2016-04-14T18:43:00.000</td>\n",
       "      <td>2016-04-14T18:43:00.000</td>\n",
       "      <td>2818 Palomino Trail in Austin (TX)</td>\n",
       "      <td>Normal</td>\n",
       "      <td>Stray</td>\n",
       "      <td>Runster</td>\n",
       "      <td>Intact Male</td>\n",
       "    </tr>\n",
       "    <tr>\n",
       "      <th>4 weeks</th>\n",
       "      <td>A665644</td>\n",
       "      <td>Cat</td>\n",
       "      <td>Domestic Shorthair Mix</td>\n",
       "      <td>Calico</td>\n",
       "      <td>2013-10-21T07:59:00.000</td>\n",
       "      <td>2013-10-21T07:59:00.000</td>\n",
       "      <td>Austin (TX)</td>\n",
       "      <td>Sick</td>\n",
       "      <td>Stray</td>\n",
       "      <td>NaN</td>\n",
       "      <td>Intact Female</td>\n",
       "    </tr>\n",
       "    <tr>\n",
       "      <th>4 years</th>\n",
       "      <td>A682524</td>\n",
       "      <td>Dog</td>\n",
       "      <td>Doberman Pinsch/Australian Cattle Dog</td>\n",
       "      <td>Tan/Gray</td>\n",
       "      <td>2014-06-29T10:38:00.000</td>\n",
       "      <td>2014-06-29T10:38:00.000</td>\n",
       "      <td>800 Grove Blvd in Austin (TX)</td>\n",
       "      <td>Normal</td>\n",
       "      <td>Stray</td>\n",
       "      <td>Rio</td>\n",
       "      <td>Neutered Male</td>\n",
       "    </tr>\n",
       "    <tr>\n",
       "      <th>2 years</th>\n",
       "      <td>A743852</td>\n",
       "      <td>Dog</td>\n",
       "      <td>Labrador Retriever Mix</td>\n",
       "      <td>Chocolate</td>\n",
       "      <td>2017-02-18T12:46:00.000</td>\n",
       "      <td>2017-02-18T12:46:00.000</td>\n",
       "      <td>Austin (TX)</td>\n",
       "      <td>Normal</td>\n",
       "      <td>Owner Surrender</td>\n",
       "      <td>Odin</td>\n",
       "      <td>Neutered Male</td>\n",
       "    </tr>\n",
       "  </tbody>\n",
       "</table>\n",
       "</div>"
      ],
      "text/plain": [
       "                animal_id animal_type                                  breed  \\\n",
       "age_upon_intake                                                                \n",
       "8 years           A706918         Dog               English Springer Spaniel   \n",
       "11 months         A724273         Dog                            Basenji Mix   \n",
       "4 weeks           A665644         Cat                 Domestic Shorthair Mix   \n",
       "4 years           A682524         Dog  Doberman Pinsch/Australian Cattle Dog   \n",
       "2 years           A743852         Dog                 Labrador Retriever Mix   \n",
       "\n",
       "                       color                 datetime  \\\n",
       "age_upon_intake                                         \n",
       "8 years          White/Liver  2015-07-05T12:59:00.000   \n",
       "11 months        Sable/White  2016-04-14T18:43:00.000   \n",
       "4 weeks               Calico  2013-10-21T07:59:00.000   \n",
       "4 years             Tan/Gray  2014-06-29T10:38:00.000   \n",
       "2 years            Chocolate  2017-02-18T12:46:00.000   \n",
       "\n",
       "                               datetime2                      found_location  \\\n",
       "age_upon_intake                                                                \n",
       "8 years          2015-07-05T12:59:00.000    9409 Bluegrass Dr in Austin (TX)   \n",
       "11 months        2016-04-14T18:43:00.000  2818 Palomino Trail in Austin (TX)   \n",
       "4 weeks          2013-10-21T07:59:00.000                         Austin (TX)   \n",
       "4 years          2014-06-29T10:38:00.000       800 Grove Blvd in Austin (TX)   \n",
       "2 years          2017-02-18T12:46:00.000                         Austin (TX)   \n",
       "\n",
       "                intake_condition      intake_type     name sex_upon_intake  \n",
       "age_upon_intake                                                             \n",
       "8 years                   Normal            Stray    Belle   Spayed Female  \n",
       "11 months                 Normal            Stray  Runster     Intact Male  \n",
       "4 weeks                     Sick            Stray      NaN   Intact Female  \n",
       "4 years                   Normal            Stray      Rio   Neutered Male  \n",
       "2 years                   Normal  Owner Surrender     Odin   Neutered Male  "
      ]
     },
     "execution_count": 170,
     "metadata": {},
     "output_type": "execute_result"
    }
   ],
   "source": [
    "intakes = pd.read_csv(intakesCsv, index_col=0)\n",
    "intakes.head()\n"
   ]
  },
  {
   "cell_type": "code",
   "execution_count": 171,
   "metadata": {},
   "outputs": [
    {
     "data": {
      "text/html": [
       "<div>\n",
       "<style scoped>\n",
       "    .dataframe tbody tr th:only-of-type {\n",
       "        vertical-align: middle;\n",
       "    }\n",
       "\n",
       "    .dataframe tbody tr th {\n",
       "        vertical-align: top;\n",
       "    }\n",
       "\n",
       "    .dataframe thead th {\n",
       "        text-align: right;\n",
       "    }\n",
       "</style>\n",
       "<table border=\"1\" class=\"dataframe\">\n",
       "  <thead>\n",
       "    <tr style=\"text-align: right;\">\n",
       "      <th></th>\n",
       "      <th>animal_id</th>\n",
       "      <th>animal_type</th>\n",
       "      <th>breed</th>\n",
       "      <th>color</th>\n",
       "      <th>datetime</th>\n",
       "      <th>datetime2</th>\n",
       "      <th>found_location</th>\n",
       "      <th>intake_condition</th>\n",
       "      <th>intake_type</th>\n",
       "      <th>name</th>\n",
       "      <th>sex_upon_intake</th>\n",
       "    </tr>\n",
       "  </thead>\n",
       "  <tbody>\n",
       "    <tr>\n",
       "      <th>count</th>\n",
       "      <td>80187</td>\n",
       "      <td>80187</td>\n",
       "      <td>80187</td>\n",
       "      <td>80187</td>\n",
       "      <td>80187</td>\n",
       "      <td>80187</td>\n",
       "      <td>80187</td>\n",
       "      <td>80187</td>\n",
       "      <td>80187</td>\n",
       "      <td>55603</td>\n",
       "      <td>80186</td>\n",
       "    </tr>\n",
       "    <tr>\n",
       "      <th>unique</th>\n",
       "      <td>72365</td>\n",
       "      <td>5</td>\n",
       "      <td>2166</td>\n",
       "      <td>529</td>\n",
       "      <td>57055</td>\n",
       "      <td>57055</td>\n",
       "      <td>36772</td>\n",
       "      <td>8</td>\n",
       "      <td>5</td>\n",
       "      <td>14731</td>\n",
       "      <td>5</td>\n",
       "    </tr>\n",
       "    <tr>\n",
       "      <th>top</th>\n",
       "      <td>A721033</td>\n",
       "      <td>Dog</td>\n",
       "      <td>Domestic Shorthair Mix</td>\n",
       "      <td>Black/White</td>\n",
       "      <td>2016-09-23T12:00:00.000</td>\n",
       "      <td>2016-09-23T12:00:00.000</td>\n",
       "      <td>Austin (TX)</td>\n",
       "      <td>Normal</td>\n",
       "      <td>Stray</td>\n",
       "      <td>Bella</td>\n",
       "      <td>Intact Male</td>\n",
       "    </tr>\n",
       "    <tr>\n",
       "      <th>freq</th>\n",
       "      <td>13</td>\n",
       "      <td>45743</td>\n",
       "      <td>23519</td>\n",
       "      <td>8340</td>\n",
       "      <td>64</td>\n",
       "      <td>64</td>\n",
       "      <td>14443</td>\n",
       "      <td>70520</td>\n",
       "      <td>56280</td>\n",
       "      <td>357</td>\n",
       "      <td>25488</td>\n",
       "    </tr>\n",
       "  </tbody>\n",
       "</table>\n",
       "</div>"
      ],
      "text/plain": [
       "       animal_id animal_type                   breed        color  \\\n",
       "count      80187       80187                   80187        80187   \n",
       "unique     72365           5                    2166          529   \n",
       "top      A721033         Dog  Domestic Shorthair Mix  Black/White   \n",
       "freq          13       45743                   23519         8340   \n",
       "\n",
       "                       datetime                datetime2 found_location  \\\n",
       "count                     80187                    80187          80187   \n",
       "unique                    57055                    57055          36772   \n",
       "top     2016-09-23T12:00:00.000  2016-09-23T12:00:00.000    Austin (TX)   \n",
       "freq                         64                       64          14443   \n",
       "\n",
       "       intake_condition intake_type   name sex_upon_intake  \n",
       "count             80187       80187  55603           80186  \n",
       "unique                8           5  14731               5  \n",
       "top              Normal       Stray  Bella     Intact Male  \n",
       "freq              70520       56280    357           25488  "
      ]
     },
     "execution_count": 171,
     "metadata": {},
     "output_type": "execute_result"
    }
   ],
   "source": [
    "intakes.describe()\n"
   ]
  },
  {
   "cell_type": "code",
   "execution_count": 211,
   "metadata": {},
   "outputs": [
    {
     "data": {
      "text/plain": [
       "(80187, 11)"
      ]
     },
     "execution_count": 211,
     "metadata": {},
     "output_type": "execute_result"
    }
   ],
   "source": [
    "intakes.shape"
   ]
  },
  {
   "cell_type": "code",
   "execution_count": 93,
   "metadata": {},
   "outputs": [
    {
     "data": {
      "text/html": [
       "<div>\n",
       "<style scoped>\n",
       "    .dataframe tbody tr th:only-of-type {\n",
       "        vertical-align: middle;\n",
       "    }\n",
       "\n",
       "    .dataframe tbody tr th {\n",
       "        vertical-align: top;\n",
       "    }\n",
       "\n",
       "    .dataframe thead th {\n",
       "        text-align: right;\n",
       "    }\n",
       "</style>\n",
       "<table border=\"1\" class=\"dataframe\">\n",
       "  <thead>\n",
       "    <tr style=\"text-align: right;\">\n",
       "      <th></th>\n",
       "      <th>animal_id_outcome</th>\n",
       "      <th>date_of_birth</th>\n",
       "      <th>outcome_subtype</th>\n",
       "      <th>outcome_type</th>\n",
       "      <th>sex_upon_outcome</th>\n",
       "      <th>age_upon_outcome_(days)</th>\n",
       "      <th>age_upon_outcome_(years)</th>\n",
       "      <th>age_upon_outcome_age_group</th>\n",
       "      <th>outcome_datetime</th>\n",
       "      <th>outcome_month</th>\n",
       "      <th>...</th>\n",
       "      <th>age_upon_intake_age_group</th>\n",
       "      <th>intake_datetime</th>\n",
       "      <th>intake_month</th>\n",
       "      <th>intake_year</th>\n",
       "      <th>intake_monthyear</th>\n",
       "      <th>intake_weekday</th>\n",
       "      <th>intake_hour</th>\n",
       "      <th>intake_number</th>\n",
       "      <th>time_in_shelter</th>\n",
       "      <th>time_in_shelter_days</th>\n",
       "    </tr>\n",
       "    <tr>\n",
       "      <th>age_upon_outcome</th>\n",
       "      <th></th>\n",
       "      <th></th>\n",
       "      <th></th>\n",
       "      <th></th>\n",
       "      <th></th>\n",
       "      <th></th>\n",
       "      <th></th>\n",
       "      <th></th>\n",
       "      <th></th>\n",
       "      <th></th>\n",
       "      <th></th>\n",
       "      <th></th>\n",
       "      <th></th>\n",
       "      <th></th>\n",
       "      <th></th>\n",
       "      <th></th>\n",
       "      <th></th>\n",
       "      <th></th>\n",
       "      <th></th>\n",
       "      <th></th>\n",
       "      <th></th>\n",
       "    </tr>\n",
       "  </thead>\n",
       "  <tbody>\n",
       "    <tr>\n",
       "      <th>10 years</th>\n",
       "      <td>A006100</td>\n",
       "      <td>2007-07-09 00:00:00</td>\n",
       "      <td>NaN</td>\n",
       "      <td>Return to Owner</td>\n",
       "      <td>Neutered Male</td>\n",
       "      <td>3650</td>\n",
       "      <td>10.0</td>\n",
       "      <td>(7.5, 10.0]</td>\n",
       "      <td>2017-12-07 14:07:00</td>\n",
       "      <td>12</td>\n",
       "      <td>...</td>\n",
       "      <td>(7.5, 10.0]</td>\n",
       "      <td>2017-12-07 00:00:00</td>\n",
       "      <td>12</td>\n",
       "      <td>2017</td>\n",
       "      <td>2017-12</td>\n",
       "      <td>Thursday</td>\n",
       "      <td>14</td>\n",
       "      <td>1.0</td>\n",
       "      <td>0 days 14:07:00.000000000</td>\n",
       "      <td>0.588194</td>\n",
       "    </tr>\n",
       "    <tr>\n",
       "      <th>7 years</th>\n",
       "      <td>A006100</td>\n",
       "      <td>2007-07-09 00:00:00</td>\n",
       "      <td>NaN</td>\n",
       "      <td>Return to Owner</td>\n",
       "      <td>Neutered Male</td>\n",
       "      <td>2555</td>\n",
       "      <td>7.0</td>\n",
       "      <td>(5.0, 7.5]</td>\n",
       "      <td>2014-12-20 16:35:00</td>\n",
       "      <td>12</td>\n",
       "      <td>...</td>\n",
       "      <td>(5.0, 7.5]</td>\n",
       "      <td>2014-12-19 10:21:00</td>\n",
       "      <td>12</td>\n",
       "      <td>2014</td>\n",
       "      <td>2014-12</td>\n",
       "      <td>Friday</td>\n",
       "      <td>10</td>\n",
       "      <td>2.0</td>\n",
       "      <td>1 days 06:14:00.000000000</td>\n",
       "      <td>1.259722</td>\n",
       "    </tr>\n",
       "    <tr>\n",
       "      <th>6 years</th>\n",
       "      <td>A006100</td>\n",
       "      <td>2007-07-09 00:00:00</td>\n",
       "      <td>NaN</td>\n",
       "      <td>Return to Owner</td>\n",
       "      <td>Neutered Male</td>\n",
       "      <td>2190</td>\n",
       "      <td>6.0</td>\n",
       "      <td>(5.0, 7.5]</td>\n",
       "      <td>2014-03-08 17:10:00</td>\n",
       "      <td>3</td>\n",
       "      <td>...</td>\n",
       "      <td>(5.0, 7.5]</td>\n",
       "      <td>2014-03-07 14:26:00</td>\n",
       "      <td>3</td>\n",
       "      <td>2014</td>\n",
       "      <td>2014-03</td>\n",
       "      <td>Friday</td>\n",
       "      <td>14</td>\n",
       "      <td>3.0</td>\n",
       "      <td>1 days 02:44:00.000000000</td>\n",
       "      <td>1.113889</td>\n",
       "    </tr>\n",
       "    <tr>\n",
       "      <th>10 years</th>\n",
       "      <td>A047759</td>\n",
       "      <td>2004-04-02 00:00:00</td>\n",
       "      <td>Partner</td>\n",
       "      <td>Transfer</td>\n",
       "      <td>Neutered Male</td>\n",
       "      <td>3650</td>\n",
       "      <td>10.0</td>\n",
       "      <td>(7.5, 10.0]</td>\n",
       "      <td>2014-04-07 15:12:00</td>\n",
       "      <td>4</td>\n",
       "      <td>...</td>\n",
       "      <td>(7.5, 10.0]</td>\n",
       "      <td>2014-04-02 15:55:00</td>\n",
       "      <td>4</td>\n",
       "      <td>2014</td>\n",
       "      <td>2014-04</td>\n",
       "      <td>Wednesday</td>\n",
       "      <td>15</td>\n",
       "      <td>1.0</td>\n",
       "      <td>4 days 23:17:00.000000000</td>\n",
       "      <td>4.970139</td>\n",
       "    </tr>\n",
       "    <tr>\n",
       "      <th>16 years</th>\n",
       "      <td>A134067</td>\n",
       "      <td>1997-10-16 00:00:00</td>\n",
       "      <td>NaN</td>\n",
       "      <td>Return to Owner</td>\n",
       "      <td>Neutered Male</td>\n",
       "      <td>5840</td>\n",
       "      <td>16.0</td>\n",
       "      <td>(15.0, 17.5]</td>\n",
       "      <td>2013-11-16 11:54:00</td>\n",
       "      <td>11</td>\n",
       "      <td>...</td>\n",
       "      <td>(15.0, 17.5]</td>\n",
       "      <td>2013-11-16 09:02:00</td>\n",
       "      <td>11</td>\n",
       "      <td>2013</td>\n",
       "      <td>2013-11</td>\n",
       "      <td>Saturday</td>\n",
       "      <td>9</td>\n",
       "      <td>1.0</td>\n",
       "      <td>0 days 02:52:00.000000000</td>\n",
       "      <td>0.119444</td>\n",
       "    </tr>\n",
       "  </tbody>\n",
       "</table>\n",
       "<p>5 rows × 40 columns</p>\n",
       "</div>"
      ],
      "text/plain": [
       "                 animal_id_outcome        date_of_birth outcome_subtype  \\\n",
       "age_upon_outcome                                                          \n",
       "10 years                   A006100  2007-07-09 00:00:00             NaN   \n",
       "7 years                    A006100  2007-07-09 00:00:00             NaN   \n",
       "6 years                    A006100  2007-07-09 00:00:00             NaN   \n",
       "10 years                   A047759  2004-04-02 00:00:00         Partner   \n",
       "16 years                   A134067  1997-10-16 00:00:00             NaN   \n",
       "\n",
       "                     outcome_type sex_upon_outcome  age_upon_outcome_(days)  \\\n",
       "age_upon_outcome                                                              \n",
       "10 years          Return to Owner    Neutered Male                     3650   \n",
       "7 years           Return to Owner    Neutered Male                     2555   \n",
       "6 years           Return to Owner    Neutered Male                     2190   \n",
       "10 years                 Transfer    Neutered Male                     3650   \n",
       "16 years          Return to Owner    Neutered Male                     5840   \n",
       "\n",
       "                  age_upon_outcome_(years) age_upon_outcome_age_group  \\\n",
       "age_upon_outcome                                                        \n",
       "10 years                              10.0                (7.5, 10.0]   \n",
       "7 years                                7.0                 (5.0, 7.5]   \n",
       "6 years                                6.0                 (5.0, 7.5]   \n",
       "10 years                              10.0                (7.5, 10.0]   \n",
       "16 years                              16.0               (15.0, 17.5]   \n",
       "\n",
       "                     outcome_datetime  outcome_month  ...  \\\n",
       "age_upon_outcome                                      ...   \n",
       "10 years          2017-12-07 14:07:00             12  ...   \n",
       "7 years           2014-12-20 16:35:00             12  ...   \n",
       "6 years           2014-03-08 17:10:00              3  ...   \n",
       "10 years          2014-04-07 15:12:00              4  ...   \n",
       "16 years          2013-11-16 11:54:00             11  ...   \n",
       "\n",
       "                  age_upon_intake_age_group      intake_datetime intake_month  \\\n",
       "age_upon_outcome                                                                \n",
       "10 years                        (7.5, 10.0]  2017-12-07 00:00:00           12   \n",
       "7 years                          (5.0, 7.5]  2014-12-19 10:21:00           12   \n",
       "6 years                          (5.0, 7.5]  2014-03-07 14:26:00            3   \n",
       "10 years                        (7.5, 10.0]  2014-04-02 15:55:00            4   \n",
       "16 years                       (15.0, 17.5]  2013-11-16 09:02:00           11   \n",
       "\n",
       "                  intake_year  intake_monthyear  intake_weekday  intake_hour  \\\n",
       "age_upon_outcome                                                               \n",
       "10 years                 2017           2017-12        Thursday           14   \n",
       "7 years                  2014           2014-12          Friday           10   \n",
       "6 years                  2014           2014-03          Friday           14   \n",
       "10 years                 2014           2014-04       Wednesday           15   \n",
       "16 years                 2013           2013-11        Saturday            9   \n",
       "\n",
       "                 intake_number            time_in_shelter time_in_shelter_days  \n",
       "age_upon_outcome                                                                \n",
       "10 years                   1.0  0 days 14:07:00.000000000             0.588194  \n",
       "7 years                    2.0  1 days 06:14:00.000000000             1.259722  \n",
       "6 years                    3.0  1 days 02:44:00.000000000             1.113889  \n",
       "10 years                   1.0  4 days 23:17:00.000000000             4.970139  \n",
       "16 years                   1.0  0 days 02:52:00.000000000             0.119444  \n",
       "\n",
       "[5 rows x 40 columns]"
      ]
     },
     "execution_count": 93,
     "metadata": {},
     "output_type": "execute_result"
    }
   ],
   "source": [
    "intakesOutcomes = pd.read_csv(intakesOutcomesCsv, index_col=0)\n",
    "intakesOutcomes.head()"
   ]
  },
  {
   "cell_type": "code",
   "execution_count": 210,
   "metadata": {},
   "outputs": [
    {
     "data": {
      "text/plain": [
       "(79672, 40)"
      ]
     },
     "execution_count": 210,
     "metadata": {},
     "output_type": "execute_result"
    }
   ],
   "source": [
    "intakesOutcomes.shape"
   ]
  },
  {
   "cell_type": "code",
   "execution_count": 223,
   "metadata": {},
   "outputs": [
    {
     "data": {
      "text/html": [
       "<div>\n",
       "<style scoped>\n",
       "    .dataframe tbody tr th:only-of-type {\n",
       "        vertical-align: middle;\n",
       "    }\n",
       "\n",
       "    .dataframe tbody tr th {\n",
       "        vertical-align: top;\n",
       "    }\n",
       "\n",
       "    .dataframe thead th {\n",
       "        text-align: right;\n",
       "    }\n",
       "</style>\n",
       "<table border=\"1\" class=\"dataframe\">\n",
       "  <thead>\n",
       "    <tr style=\"text-align: right;\">\n",
       "      <th></th>\n",
       "      <th>animal_id</th>\n",
       "      <th>animal_type</th>\n",
       "      <th>breed</th>\n",
       "      <th>color</th>\n",
       "      <th>date_of_birth</th>\n",
       "      <th>datetime</th>\n",
       "      <th>monthyear</th>\n",
       "      <th>name</th>\n",
       "      <th>outcome_subtype</th>\n",
       "      <th>outcome_type</th>\n",
       "      <th>sex_upon_outcome</th>\n",
       "    </tr>\n",
       "    <tr>\n",
       "      <th>age_upon_outcome</th>\n",
       "      <th></th>\n",
       "      <th></th>\n",
       "      <th></th>\n",
       "      <th></th>\n",
       "      <th></th>\n",
       "      <th></th>\n",
       "      <th></th>\n",
       "      <th></th>\n",
       "      <th></th>\n",
       "      <th></th>\n",
       "      <th></th>\n",
       "    </tr>\n",
       "  </thead>\n",
       "  <tbody>\n",
       "    <tr>\n",
       "      <th>2 weeks</th>\n",
       "      <td>A684346</td>\n",
       "      <td>Cat</td>\n",
       "      <td>Domestic Shorthair Mix</td>\n",
       "      <td>Orange Tabby</td>\n",
       "      <td>2014-07-07T00:00:00</td>\n",
       "      <td>2014-07-22T16:04:00</td>\n",
       "      <td>2014-07-22T16:04:00</td>\n",
       "      <td>NaN</td>\n",
       "      <td>Partner</td>\n",
       "      <td>Transfer</td>\n",
       "      <td>Intact Male</td>\n",
       "    </tr>\n",
       "    <tr>\n",
       "      <th>1 year</th>\n",
       "      <td>A666430</td>\n",
       "      <td>Dog</td>\n",
       "      <td>Beagle Mix</td>\n",
       "      <td>White/Brown</td>\n",
       "      <td>2012-11-06T00:00:00</td>\n",
       "      <td>2013-11-07T11:47:00</td>\n",
       "      <td>2013-11-07T11:47:00</td>\n",
       "      <td>Lucy</td>\n",
       "      <td>Partner</td>\n",
       "      <td>Transfer</td>\n",
       "      <td>Spayed Female</td>\n",
       "    </tr>\n",
       "    <tr>\n",
       "      <th>1 year</th>\n",
       "      <td>A675708</td>\n",
       "      <td>Dog</td>\n",
       "      <td>Pit Bull</td>\n",
       "      <td>Blue/White</td>\n",
       "      <td>2013-03-31T00:00:00</td>\n",
       "      <td>2014-06-03T14:20:00</td>\n",
       "      <td>2014-06-03T14:20:00</td>\n",
       "      <td>*Johnny</td>\n",
       "      <td>NaN</td>\n",
       "      <td>Adoption</td>\n",
       "      <td>Neutered Male</td>\n",
       "    </tr>\n",
       "    <tr>\n",
       "      <th>9 years</th>\n",
       "      <td>A680386</td>\n",
       "      <td>Dog</td>\n",
       "      <td>Miniature Schnauzer Mix</td>\n",
       "      <td>White</td>\n",
       "      <td>2005-06-02T00:00:00</td>\n",
       "      <td>2014-06-15T15:50:00</td>\n",
       "      <td>2014-06-15T15:50:00</td>\n",
       "      <td>Monday</td>\n",
       "      <td>Partner</td>\n",
       "      <td>Transfer</td>\n",
       "      <td>Neutered Male</td>\n",
       "    </tr>\n",
       "    <tr>\n",
       "      <th>5 months</th>\n",
       "      <td>A683115</td>\n",
       "      <td>Other</td>\n",
       "      <td>Bat Mix</td>\n",
       "      <td>Brown</td>\n",
       "      <td>2014-01-07T00:00:00</td>\n",
       "      <td>2014-07-07T14:04:00</td>\n",
       "      <td>2014-07-07T14:04:00</td>\n",
       "      <td>NaN</td>\n",
       "      <td>Rabies Risk</td>\n",
       "      <td>Euthanasia</td>\n",
       "      <td>Unknown</td>\n",
       "    </tr>\n",
       "  </tbody>\n",
       "</table>\n",
       "</div>"
      ],
      "text/plain": [
       "                 animal_id animal_type                    breed         color  \\\n",
       "age_upon_outcome                                                                \n",
       "2 weeks            A684346         Cat   Domestic Shorthair Mix  Orange Tabby   \n",
       "1 year             A666430         Dog               Beagle Mix   White/Brown   \n",
       "1 year             A675708         Dog                 Pit Bull    Blue/White   \n",
       "9 years            A680386         Dog  Miniature Schnauzer Mix         White   \n",
       "5 months           A683115       Other                  Bat Mix         Brown   \n",
       "\n",
       "                        date_of_birth             datetime  \\\n",
       "age_upon_outcome                                             \n",
       "2 weeks           2014-07-07T00:00:00  2014-07-22T16:04:00   \n",
       "1 year            2012-11-06T00:00:00  2013-11-07T11:47:00   \n",
       "1 year            2013-03-31T00:00:00  2014-06-03T14:20:00   \n",
       "9 years           2005-06-02T00:00:00  2014-06-15T15:50:00   \n",
       "5 months          2014-01-07T00:00:00  2014-07-07T14:04:00   \n",
       "\n",
       "                            monthyear     name outcome_subtype outcome_type  \\\n",
       "age_upon_outcome                                                              \n",
       "2 weeks           2014-07-22T16:04:00      NaN         Partner     Transfer   \n",
       "1 year            2013-11-07T11:47:00     Lucy         Partner     Transfer   \n",
       "1 year            2014-06-03T14:20:00  *Johnny             NaN     Adoption   \n",
       "9 years           2014-06-15T15:50:00   Monday         Partner     Transfer   \n",
       "5 months          2014-07-07T14:04:00      NaN     Rabies Risk   Euthanasia   \n",
       "\n",
       "                 sex_upon_outcome  \n",
       "age_upon_outcome                   \n",
       "2 weeks               Intact Male  \n",
       "1 year              Spayed Female  \n",
       "1 year              Neutered Male  \n",
       "9 years             Neutered Male  \n",
       "5 months                  Unknown  "
      ]
     },
     "execution_count": 223,
     "metadata": {},
     "output_type": "execute_result"
    }
   ],
   "source": [
    "outcomes = pd.read_csv(outcomesCsv, index_col=0)\n",
    "outcomes.head()"
   ]
  },
  {
   "cell_type": "code",
   "execution_count": 212,
   "metadata": {},
   "outputs": [
    {
     "data": {
      "text/plain": [
       "(       animal_id animal_type                   breed        color  \\\n",
       " count      80681       80681                   80681        80681   \n",
       " unique     72877           5                    2176          532   \n",
       " top      A721033         Dog  Domestic Shorthair Mix  Black/White   \n",
       " freq          13       45856                   23821         8396   \n",
       " \n",
       "               date_of_birth             datetime            monthyear   name  \\\n",
       " count                 80681                80681                80681  56116   \n",
       " unique                 5956                66474                66474  14824   \n",
       " top     2015-09-01T00:00:00  2016-04-18T00:00:00  2016-04-18T00:00:00  Bella   \n",
       " freq                    112                   39                   39    362   \n",
       " \n",
       "        outcome_subtype outcome_type sex_upon_outcome  \n",
       " count            36893        80667            80679  \n",
       " unique              19            9                5  \n",
       " top            Partner     Adoption    Neutered Male  \n",
       " freq             20082        34232            28702  ,\n",
       " animal_id           object\n",
       " animal_type         object\n",
       " breed               object\n",
       " color               object\n",
       " date_of_birth       object\n",
       " datetime            object\n",
       " monthyear           object\n",
       " name                object\n",
       " outcome_subtype     object\n",
       " outcome_type        object\n",
       " sex_upon_outcome    object\n",
       " dtype: object,\n",
       " (80681, 11))"
      ]
     },
     "execution_count": 212,
     "metadata": {},
     "output_type": "execute_result"
    }
   ],
   "source": [
    "outcomes.describe(), outcomes.dtypes, outcomes.shape"
   ]
  },
  {
   "cell_type": "markdown",
   "metadata": {},
   "source": [
    "# Question 1\n",
    "\n",
    "* is there an area where more pets are found?\n",
    "    - Find the top 5 places where animals are found so the shelter can coordinate with local volunteers and animal control to monitor these areas.*\n"
   ]
  },
  {
   "cell_type": "code",
   "execution_count": 156,
   "metadata": {},
   "outputs": [
    {
     "data": {
      "text/plain": [
       "found_location\n",
       "Austin (TX)                                     14443\n",
       "Outside Jurisdiction                              948\n",
       "Travis (TX)                                       921\n",
       "7201 Levander Loop in Austin (TX)                 517\n",
       "Del Valle (TX)                                    411\n",
       "Pflugerville (TX)                                 372\n",
       "Manor (TX)                                        280\n",
       "4434 Frontier Trl in Austin (TX)                  163\n",
       "124 W Anderson Ln in Austin (TX)                  153\n",
       "Leander (TX)                                      113\n",
       "12034 Research Blvd in Austin (TX)                 98\n",
       "1156 W Cesar Chavez in Austin (TX)                 98\n",
       "12034 Research in Austin (TX)                      96\n",
       "1834 Ferguson in Austin (TX)                       90\n",
       "1156 W Cesar Chavez St in Austin (TX)              74\n",
       "4106 N Lamar in Austin (TX)                        71\n",
       "14811 Chicadee in Pflugerville (TX)                67\n",
       "4106 N Lamar Blvd in Austin (TX)                   66\n",
       "Lago Vista (TX)                                    58\n",
       "Round Rock (TX)                                    56\n",
       "Cedar Park (TX)                                    55\n",
       "7619 Scenic Brook in Austin (TX)                   53\n",
       "Hays (TX)                                          52\n",
       "124 West Anderson Lane in Austin (TX)              51\n",
       "6600 Elm Creek Dr in Austin (TX)                   47\n",
       "21413 Webber Oaks Cv in Travis (TX)                45\n",
       "4434 Frontier Trail in Austin (TX)                 43\n",
       "4434 Frontier in Austin (TX)                       41\n",
       "1156 Cesar Chavez in Austin (TX)                   39\n",
       "12901 N Ih 35 #1100 in Austin (TX)                 38\n",
       "1601 E Slaughter Ln in Austin (TX)                 37\n",
       "Williamson (TX)                                    36\n",
       "1000 Ellingson in Austin (TX)                      36\n",
       "5701 Johnny Morris Rd in Austin (TX)               36\n",
       "12138 N Lamar Blvd in Austin (TX)                  34\n",
       "5338 Thunder Creek in Austin (TX)                  32\n",
       "Lakeway (TX)                                       32\n",
       "Riverside And Pleasant Valley in Austin (TX)       32\n",
       "Bastrop (TX)                                       31\n",
       "11113 Chatam Berry in Austin (TX)                  30\n",
       "1515 Wickersham Ln in Austin (TX)                  29\n",
       "400 Grove Blvd in Austin (TX)                      29\n",
       "5800 Techni Center Dr in Austin (TX)               28\n",
       "5200 Knight Cir in Austin (TX)                     28\n",
       "600 Barwood Park in Austin (TX)                    27\n",
       "1156 W. Cesar Chavez in Austin (TX)                26\n",
       "1203 Cometa St in Austin (TX)                      26\n",
       "5801 Ainez Dr in Austin (TX)                       26\n",
       "1300 Crossing Pl in Austin (TX)                    26\n",
       "9300 Northgate in Austin (TX)                      25\n",
       "Name: count, dtype: int64"
      ]
     },
     "execution_count": 156,
     "metadata": {},
     "output_type": "execute_result"
    }
   ],
   "source": [
    "intakes['found_location'].value_counts().head(50)\n"
   ]
  },
  {
   "cell_type": "markdown",
   "metadata": {},
   "source": [
    "well, I can't concentrate on a non-concentrated location so I want to stick to exclusively addesses. This means I'll want to filter out anything that doesn't start with a list of numbers."
   ]
  },
  {
   "cell_type": "code",
   "execution_count": 169,
   "metadata": {},
   "outputs": [
    {
     "data": {
      "text/plain": [
       "found_location\n",
       "7201 Levander Loop in Austin (TX)       517\n",
       "4434 Frontier Trl in Austin (TX)        163\n",
       "124 W Anderson Ln in Austin (TX)        153\n",
       "1156 W Cesar Chavez in Austin (TX)       98\n",
       "12034 Research Blvd in Austin (TX)       98\n",
       "                                       ... \n",
       "5401 Bahan Dr in Del Valle (TX)           1\n",
       "4401 Leslie Ave in Austin (TX)            1\n",
       "19421 Tayshas St in Manor (TX)            1\n",
       "1100 West Parmer Lane in Austin (TX)      1\n",
       "4605 Lyra Cir in Austin (TX)              1\n",
       "Name: count, Length: 25597, dtype: int64"
      ]
     },
     "execution_count": 169,
     "metadata": {},
     "output_type": "execute_result"
    }
   ],
   "source": [
    "# a regular expression that says return all found_locations that start with numbers\n",
    "pattern = r'^\\d+.*'\n",
    "preciseLocations = intakes['found_location'].str.contains(pattern, regex=True)\n",
    "intakes[preciseLocations]['found_location'].value_counts()\n",
    "\n"
   ]
  },
  {
   "cell_type": "markdown",
   "metadata": {},
   "source": [
    "# Final Answer - Top 5 addresses to focus on\n",
    "* 7201 Levander Loop in Austin (TX)       517\n",
    "* 4434 Frontier Trl in Austin (TX)        163\n",
    "* 124 W Anderson Ln in Austin (TX)        153\n",
    "* 1156 W Cesar Chavez in Austin (TX)       98\n",
    "* 12034 Research Blvd in Austin (TX)       98 "
   ]
  },
  {
   "cell_type": "markdown",
   "metadata": {},
   "source": [
    "# Question 2\n",
    "* What is the average number of pets found in a month in the year 2015? Are there months where there is a higher number of animals found?\n",
    "    - Knowing the number of pets the shelter might see in a month can help them gather enough resources and donations to care for the animals they receive."
   ]
  },
  {
   "cell_type": "code",
   "execution_count": 291,
   "metadata": {},
   "outputs": [],
   "source": [
    "# In order to do any filtering I first have to convert intake datetime field to the dtype: datetime\n",
    "intakes['datetime'] = pd.to_datetime(intakes['datetime'])\n",
    "intakesOutcomes['intake_datetime'] = pd.to_datetime(intakesOutcomes['intake_datetime'])\n",
    "# and for later\n",
    "outcomes['datetime'] = pd.to_datetime(outcomes['datetime'])\n",
    "\n"
   ]
  },
  {
   "cell_type": "code",
   "execution_count": 208,
   "metadata": {},
   "outputs": [
    {
     "data": {
      "text/plain": [
       "count      12.000000\n",
       "mean     1553.750000\n",
       "std       343.050785\n",
       "min      1123.000000\n",
       "25%      1308.000000\n",
       "50%      1551.000000\n",
       "75%      1720.500000\n",
       "max      2176.000000\n",
       "Name: count, dtype: float64"
      ]
     },
     "execution_count": 208,
     "metadata": {},
     "output_type": "execute_result"
    }
   ],
   "source": [
    "#I need to find all the intakes in 2015\n",
    "filteredData = intakes[intakes['datetime'].dt.year == 2015]\n",
    "#I want to confirm the intakes.datetime and intakesOutcomes.intakedatetime are the same, so i'll merge the filtered dataview with intakeOutcomes and do a few spot checks\n",
    "#better yet, I'll merge them as the same column and that will ensure we only inspect matching data\n",
    "intakesIntakesOutcomes = filteredData.merge(intakesOutcomes, left_on=['animal_id','datetime'], right_on=['animal_id_outcome','intake_datetime'])\n",
    "monthlyIntakeTotals2015 = intakesIntakesOutcomes['intake_month'].value_counts()\n",
    "monthlyIntakeTotals2015.describe()\n",
    "\n"
   ]
  },
  {
   "cell_type": "code",
   "execution_count": 207,
   "metadata": {},
   "outputs": [
    {
     "data": {
      "text/plain": [
       "intake_month\n",
       "1     1203\n",
       "2     1123\n",
       "3     1343\n",
       "4     1526\n",
       "5     2087\n",
       "6     2176\n",
       "7     1629\n",
       "8     1716\n",
       "9     1576\n",
       "10    1734\n",
       "11    1405\n",
       "12    1127\n",
       "Name: count, dtype: int64"
      ]
     },
     "execution_count": 207,
     "metadata": {},
     "output_type": "execute_result"
    }
   ],
   "source": [
    "monthlyIntakeTotals2015.sort_index()"
   ]
  },
  {
   "cell_type": "code",
   "execution_count": 204,
   "metadata": {},
   "outputs": [
    {
     "data": {
      "text/plain": [
       "intake_month\n",
       "1     False\n",
       "2     False\n",
       "3     False\n",
       "4     False\n",
       "5      True\n",
       "6      True\n",
       "7      True\n",
       "8      True\n",
       "9      True\n",
       "10     True\n",
       "11    False\n",
       "12    False\n",
       "Name: count, dtype: bool"
      ]
     },
     "execution_count": 204,
     "metadata": {},
     "output_type": "execute_result"
    }
   ],
   "source": [
    "(monthlyIntakeTotals2015 > monthlyIntakeTotals2015.mean())"
   ]
  },
  {
   "cell_type": "markdown",
   "metadata": {},
   "source": [
    "# Final Answer - Above average intake months in the year 2015\n",
    "* May through October are above average\n",
    "* May and June are more than 1 std above average.  I would focus my resources there."
   ]
  },
  {
   "cell_type": "markdown",
   "metadata": {},
   "source": [
    "# Question 3 \n",
    "* What is the ratio of incoming pets vs. adopted pets?\n",
    "    - This key metric helps the shelter know how they are doing."
   ]
  },
  {
   "cell_type": "code",
   "execution_count": 284,
   "metadata": {},
   "outputs": [
    {
     "data": {
      "text/html": [
       "<div>\n",
       "<style scoped>\n",
       "    .dataframe tbody tr th:only-of-type {\n",
       "        vertical-align: middle;\n",
       "    }\n",
       "\n",
       "    .dataframe tbody tr th {\n",
       "        vertical-align: top;\n",
       "    }\n",
       "\n",
       "    .dataframe thead th {\n",
       "        text-align: right;\n",
       "    }\n",
       "</style>\n",
       "<table border=\"1\" class=\"dataframe\">\n",
       "  <thead>\n",
       "    <tr style=\"text-align: right;\">\n",
       "      <th></th>\n",
       "      <th>animal_id_outcome</th>\n",
       "      <th>date_of_birth</th>\n",
       "      <th>outcome_subtype</th>\n",
       "      <th>outcome_type</th>\n",
       "      <th>sex_upon_outcome</th>\n",
       "      <th>age_upon_outcome_(days)</th>\n",
       "      <th>age_upon_outcome_(years)</th>\n",
       "      <th>age_upon_outcome_age_group</th>\n",
       "      <th>outcome_datetime</th>\n",
       "      <th>outcome_month</th>\n",
       "      <th>...</th>\n",
       "      <th>intake_monthyear</th>\n",
       "      <th>intake_weekday</th>\n",
       "      <th>intake_hour</th>\n",
       "      <th>intake_number</th>\n",
       "      <th>time_in_shelter</th>\n",
       "      <th>time_in_shelter_days</th>\n",
       "      <th>animal_id</th>\n",
       "      <th>datetime</th>\n",
       "      <th>monthyear</th>\n",
       "      <th>name</th>\n",
       "    </tr>\n",
       "  </thead>\n",
       "  <tbody>\n",
       "    <tr>\n",
       "      <th>0</th>\n",
       "      <td>A006100</td>\n",
       "      <td>2007-07-09</td>\n",
       "      <td>NaN</td>\n",
       "      <td>Return to Owner</td>\n",
       "      <td>Neutered Male</td>\n",
       "      <td>3650</td>\n",
       "      <td>10.0</td>\n",
       "      <td>(7.5, 10.0]</td>\n",
       "      <td>2017-12-07 14:07:00</td>\n",
       "      <td>12</td>\n",
       "      <td>...</td>\n",
       "      <td>2017-12</td>\n",
       "      <td>Thursday</td>\n",
       "      <td>14</td>\n",
       "      <td>1.0</td>\n",
       "      <td>0 days 14:07:00.000000000</td>\n",
       "      <td>0.588194</td>\n",
       "      <td>A006100</td>\n",
       "      <td>2014-03-08T17:10:00</td>\n",
       "      <td>2014-03-08T17:10:00</td>\n",
       "      <td>Scamp</td>\n",
       "    </tr>\n",
       "    <tr>\n",
       "      <th>1</th>\n",
       "      <td>A006100</td>\n",
       "      <td>2007-07-09</td>\n",
       "      <td>NaN</td>\n",
       "      <td>Return to Owner</td>\n",
       "      <td>Neutered Male</td>\n",
       "      <td>3650</td>\n",
       "      <td>10.0</td>\n",
       "      <td>(7.5, 10.0]</td>\n",
       "      <td>2017-12-07 14:07:00</td>\n",
       "      <td>12</td>\n",
       "      <td>...</td>\n",
       "      <td>2017-12</td>\n",
       "      <td>Thursday</td>\n",
       "      <td>14</td>\n",
       "      <td>1.0</td>\n",
       "      <td>0 days 14:07:00.000000000</td>\n",
       "      <td>0.588194</td>\n",
       "      <td>A006100</td>\n",
       "      <td>2014-12-20T16:35:00</td>\n",
       "      <td>2014-12-20T16:35:00</td>\n",
       "      <td>Scamp</td>\n",
       "    </tr>\n",
       "    <tr>\n",
       "      <th>2</th>\n",
       "      <td>A006100</td>\n",
       "      <td>2007-07-09</td>\n",
       "      <td>NaN</td>\n",
       "      <td>Return to Owner</td>\n",
       "      <td>Neutered Male</td>\n",
       "      <td>3650</td>\n",
       "      <td>10.0</td>\n",
       "      <td>(7.5, 10.0]</td>\n",
       "      <td>2017-12-07 14:07:00</td>\n",
       "      <td>12</td>\n",
       "      <td>...</td>\n",
       "      <td>2017-12</td>\n",
       "      <td>Thursday</td>\n",
       "      <td>14</td>\n",
       "      <td>1.0</td>\n",
       "      <td>0 days 14:07:00.000000000</td>\n",
       "      <td>0.588194</td>\n",
       "      <td>A006100</td>\n",
       "      <td>2017-12-07T00:00:00</td>\n",
       "      <td>2017-12-07T00:00:00</td>\n",
       "      <td>Scamp</td>\n",
       "    </tr>\n",
       "    <tr>\n",
       "      <th>3</th>\n",
       "      <td>A006100</td>\n",
       "      <td>2007-07-09</td>\n",
       "      <td>NaN</td>\n",
       "      <td>Return to Owner</td>\n",
       "      <td>Neutered Male</td>\n",
       "      <td>2555</td>\n",
       "      <td>7.0</td>\n",
       "      <td>(5.0, 7.5]</td>\n",
       "      <td>2014-12-20 16:35:00</td>\n",
       "      <td>12</td>\n",
       "      <td>...</td>\n",
       "      <td>2014-12</td>\n",
       "      <td>Friday</td>\n",
       "      <td>10</td>\n",
       "      <td>2.0</td>\n",
       "      <td>1 days 06:14:00.000000000</td>\n",
       "      <td>1.259722</td>\n",
       "      <td>A006100</td>\n",
       "      <td>2014-03-08T17:10:00</td>\n",
       "      <td>2014-03-08T17:10:00</td>\n",
       "      <td>Scamp</td>\n",
       "    </tr>\n",
       "    <tr>\n",
       "      <th>4</th>\n",
       "      <td>A006100</td>\n",
       "      <td>2007-07-09</td>\n",
       "      <td>NaN</td>\n",
       "      <td>Return to Owner</td>\n",
       "      <td>Neutered Male</td>\n",
       "      <td>2555</td>\n",
       "      <td>7.0</td>\n",
       "      <td>(5.0, 7.5]</td>\n",
       "      <td>2014-12-20 16:35:00</td>\n",
       "      <td>12</td>\n",
       "      <td>...</td>\n",
       "      <td>2014-12</td>\n",
       "      <td>Friday</td>\n",
       "      <td>10</td>\n",
       "      <td>2.0</td>\n",
       "      <td>1 days 06:14:00.000000000</td>\n",
       "      <td>1.259722</td>\n",
       "      <td>A006100</td>\n",
       "      <td>2014-12-20T16:35:00</td>\n",
       "      <td>2014-12-20T16:35:00</td>\n",
       "      <td>Scamp</td>\n",
       "    </tr>\n",
       "  </tbody>\n",
       "</table>\n",
       "<p>5 rows × 44 columns</p>\n",
       "</div>"
      ],
      "text/plain": [
       "  animal_id_outcome date_of_birth outcome_subtype     outcome_type  \\\n",
       "0           A006100    2007-07-09             NaN  Return to Owner   \n",
       "1           A006100    2007-07-09             NaN  Return to Owner   \n",
       "2           A006100    2007-07-09             NaN  Return to Owner   \n",
       "3           A006100    2007-07-09             NaN  Return to Owner   \n",
       "4           A006100    2007-07-09             NaN  Return to Owner   \n",
       "\n",
       "  sex_upon_outcome  age_upon_outcome_(days)  age_upon_outcome_(years)  \\\n",
       "0    Neutered Male                     3650                      10.0   \n",
       "1    Neutered Male                     3650                      10.0   \n",
       "2    Neutered Male                     3650                      10.0   \n",
       "3    Neutered Male                     2555                       7.0   \n",
       "4    Neutered Male                     2555                       7.0   \n",
       "\n",
       "  age_upon_outcome_age_group     outcome_datetime  outcome_month  ...  \\\n",
       "0                (7.5, 10.0]  2017-12-07 14:07:00             12  ...   \n",
       "1                (7.5, 10.0]  2017-12-07 14:07:00             12  ...   \n",
       "2                (7.5, 10.0]  2017-12-07 14:07:00             12  ...   \n",
       "3                 (5.0, 7.5]  2014-12-20 16:35:00             12  ...   \n",
       "4                 (5.0, 7.5]  2014-12-20 16:35:00             12  ...   \n",
       "\n",
       "   intake_monthyear intake_weekday intake_hour  intake_number  \\\n",
       "0           2017-12       Thursday          14            1.0   \n",
       "1           2017-12       Thursday          14            1.0   \n",
       "2           2017-12       Thursday          14            1.0   \n",
       "3           2014-12         Friday          10            2.0   \n",
       "4           2014-12         Friday          10            2.0   \n",
       "\n",
       "             time_in_shelter  time_in_shelter_days  animal_id  \\\n",
       "0  0 days 14:07:00.000000000              0.588194    A006100   \n",
       "1  0 days 14:07:00.000000000              0.588194    A006100   \n",
       "2  0 days 14:07:00.000000000              0.588194    A006100   \n",
       "3  1 days 06:14:00.000000000              1.259722    A006100   \n",
       "4  1 days 06:14:00.000000000              1.259722    A006100   \n",
       "\n",
       "              datetime            monthyear   name  \n",
       "0  2014-03-08T17:10:00  2014-03-08T17:10:00  Scamp  \n",
       "1  2014-12-20T16:35:00  2014-12-20T16:35:00  Scamp  \n",
       "2  2017-12-07T00:00:00  2017-12-07T00:00:00  Scamp  \n",
       "3  2014-03-08T17:10:00  2014-03-08T17:10:00  Scamp  \n",
       "4  2014-12-20T16:35:00  2014-12-20T16:35:00  Scamp  \n",
       "\n",
       "[5 rows x 44 columns]"
      ]
     },
     "execution_count": 284,
     "metadata": {},
     "output_type": "execute_result"
    }
   ],
   "source": [
    "intakesOutcomes['date_of_birth'] = pd.to_datetime(intakesOutcomes['date_of_birth'])\n",
    "outcomes['date_of_birth'] = pd.to_datetime(outcomes['date_of_birth'])\n",
    "#First I'd like to merge intakes and outcomes to makes sure i'm looking at the outcomes for the pets we've intaked\n",
    "OutcomesAndIntakeOutcomes = intakesOutcomes.merge(outcomes, left_on=['animal_id_outcome','date_of_birth', 'animal_type','breed','color','outcome_subtype','outcome_type','sex_upon_outcome'], right_on=['animal_id','date_of_birth', 'animal_type','breed','color','outcome_subtype','outcome_type','sex_upon_outcome'])\n",
    "\n",
    "OutcomesAndIntakeOutcomes.head()\n"
   ]
  },
  {
   "cell_type": "code",
   "execution_count": 285,
   "metadata": {},
   "outputs": [
    {
     "data": {
      "text/plain": [
       "0.43330650229901535"
      ]
     },
     "execution_count": 285,
     "metadata": {},
     "output_type": "execute_result"
    }
   ],
   "source": [
    "#lets see all the possible outcome_types\n",
    "outcomeTypes = OutcomesAndIntakeOutcomes['outcome_type'].value_counts()\n",
    "outcomeTypes\n",
    "adoptedToTotalRatio = outcomeTypes.loc['Adoption']/outcomeTypes.sum()\n",
    "adoptedToTotalRatio"
   ]
  },
  {
   "cell_type": "markdown",
   "metadata": {},
   "source": [
    "# Final Answer - Percentage of adopted pets\n",
    "43.3% of animals that are intaken animals are adopted"
   ]
  },
  {
   "cell_type": "markdown",
   "metadata": {},
   "source": [
    "# Question 4\n",
    "* What is the distribution of the types of animals in the shelter?\n",
    "    - Find the count of each type of animal in the shelter."
   ]
  },
  {
   "cell_type": "code",
   "execution_count": 278,
   "metadata": {},
   "outputs": [
    {
     "data": {
      "text/plain": [
       "animal_type\n",
       "Dog          45743\n",
       "Cat          29659\n",
       "Other         4434\n",
       "Bird           342\n",
       "Livestock        9\n",
       "Name: count, dtype: int64"
      ]
     },
     "execution_count": 278,
     "metadata": {},
     "output_type": "execute_result"
    }
   ],
   "source": [
    "intakes['animal_type'].value_counts()"
   ]
  },
  {
   "cell_type": "markdown",
   "metadata": {},
   "source": [
    "# Final Answer - animal type breakdown\n",
    "|animal type | count |\n",
    "| ------ | ------ | \n",
    "|Dog|          45743|\n",
    "|Cat|          29659|\n",
    "|Bird|           342|\n",
    "|Livestock|        9|\n"
   ]
  },
  {
   "cell_type": "markdown",
   "metadata": {},
   "source": []
  },
  {
   "cell_type": "markdown",
   "metadata": {},
   "source": [
    "# Question 5 \n",
    "* What are the adoption rates for specific breeds?\n",
    "    - Find the top 5 dog breeds in the shelter (based on count) and then find the adoption percentage of each breed."
   ]
  },
  {
   "cell_type": "code",
   "execution_count": 309,
   "metadata": {},
   "outputs": [
    {
     "data": {
      "text/plain": [
       "outcome_type\n",
       "Adoption           34232\n",
       "Transfer           24050\n",
       "Return to Owner    14851\n",
       "Euthanasia          6289\n",
       "Died                 699\n",
       "Disposal             304\n",
       "Rto-Adopt            179\n",
       "Missing               47\n",
       "Relocate              16\n",
       "Name: count, dtype: int64"
      ]
     },
     "execution_count": 309,
     "metadata": {},
     "output_type": "execute_result"
    }
   ],
   "source": [
    "outcomes.dtypes"
   ]
  },
  {
   "cell_type": "code",
   "execution_count": 369,
   "metadata": {},
   "outputs": [
    {
     "data": {
      "text/plain": [
       "breed\n",
       "Pit Bull Mix                                       6361\n",
       "Chihuahua Shorthair Mix                            4874\n",
       "Labrador Retriever Mix                             4849\n",
       "German Shepherd Mix                                1967\n",
       "Australian Cattle Dog Mix                          1112\n",
       "                                                   ... \n",
       "Australian Cattle Dog/Alaskan Husky                   1\n",
       "Papillon/Pomeranian                                   1\n",
       "Papillon/Yorkshire Terrier                            1\n",
       "Miniature Schnauzer/Soft Coated Wheaten Terrier       1\n",
       "Labrador Retriever/Pekingese                          1\n",
       "Name: count, Length: 1932, dtype: int64"
      ]
     },
     "execution_count": 369,
     "metadata": {},
     "output_type": "execute_result"
    }
   ],
   "source": [
    "#outcomes has both fields so lets just use it\n",
    "dogBreedTotals = outcomes[outcomes['animal_type'] == 'Dog']['breed'].value_counts()\n",
    "dogBreedTotals"
   ]
  },
  {
   "cell_type": "code",
   "execution_count": 359,
   "metadata": {},
   "outputs": [
    {
     "data": {
      "text/plain": [
       "breed\n",
       "Labrador Retriever Mix                     2404\n",
       "Pit Bull Mix                               2382\n",
       "Chihuahua Shorthair Mix                    2293\n",
       "German Shepherd Mix                         937\n",
       "Australian Cattle Dog Mix                   619\n",
       "                                           ... \n",
       "Great Pyrenees/English Setter                 1\n",
       "American Foxhound/Labrador Retriever          1\n",
       "Dachshund Longhair/Pembroke Welsh Corgi       1\n",
       "Cardigan Welsh Corgi/Cairn Terrier            1\n",
       "Labrador Retriever/Pekingese                  1\n",
       "Name: count, Length: 1390, dtype: int64"
      ]
     },
     "execution_count": 359,
     "metadata": {},
     "output_type": "execute_result"
    }
   ],
   "source": [
    "dogBreedAdoptions = outcomes[(outcomes.animal_type == 'Dog') & (outcomes.outcome_type == 'Adoption')]['breed'].value_counts()\n",
    "dogBreedAdoptions"
   ]
  },
  {
   "cell_type": "code",
   "execution_count": 362,
   "metadata": {},
   "outputs": [
    {
     "data": {
      "text/plain": [
       "breed\n",
       "Affenpinscher Mix                                0.625000\n",
       "Afghan Hound Mix                                      NaN\n",
       "Afghan Hound/Labrador Retriever                  1.000000\n",
       "Airedale Terrier                                      NaN\n",
       "Airedale Terrier Mix                             0.333333\n",
       "                                                   ...   \n",
       "Yorkshire Terrier/Shih Tzu                       0.666667\n",
       "Yorkshire Terrier/Soft Coated Wheaten Terrier    1.000000\n",
       "Yorkshire Terrier/Standard Poodle                     NaN\n",
       "Yorkshire Terrier/Toy Poodle                          NaN\n",
       "Yorkshire Terrier/Yorkshire Terrier              1.000000\n",
       "Name: count, Length: 1932, dtype: float64"
      ]
     },
     "execution_count": 362,
     "metadata": {},
     "output_type": "execute_result"
    }
   ],
   "source": [
    "dogBreedAdoptionPercentage = dogBreedAdoptions/dogBreedTotals\n",
    "dogBreedAdoptionPercentage"
   ]
  },
  {
   "cell_type": "code",
   "execution_count": 364,
   "metadata": {},
   "outputs": [
    {
     "data": {
      "text/plain": [
       "{'Pit Bull Mix': 0.3744694230466908,\n",
       " 'Chihuahua Shorthair Mix': 0.47045547804677884,\n",
       " 'Labrador Retriever Mix': 0.4957723241905548,\n",
       " 'German Shepherd Mix': 0.47635993899339096,\n",
       " 'Australian Cattle Dog Mix': 0.5566546762589928}"
      ]
     },
     "execution_count": 364,
     "metadata": {},
     "output_type": "execute_result"
    }
   ],
   "source": [
    "top5BreedsAndAdoptionRates = {'Pit Bull Mix':dogBreedAdoptionPercentage.loc['Pit Bull Mix'], 'Chihuahua Shorthair Mix': dogBreedAdoptionPercentage.loc['Chihuahua Shorthair Mix'], 'Labrador Retriever Mix':dogBreedAdoptionPercentage.loc['Labrador Retriever Mix'], 'German Shepherd Mix': dogBreedAdoptionPercentage.loc['German Shepherd Mix'], 'Australian Cattle Dog Mix': dogBreedAdoptionPercentage.loc['Australian Cattle Dog Mix']}\n",
    "top5BreedsAndAdoptionRates\n"
   ]
  },
  {
   "cell_type": "markdown",
   "metadata": {},
   "source": [
    "# Final Answer - Top 5 Dog Breeds and adoption ratio\n",
    "* The top 5 breeds was determined by getting the value_counts of outcomes['breed']\n",
    "* The adoption numbers were determined by broadcasting the boolean condition \"outcome_type\" = \"Adoption\" \n",
    "* The ratio was determined by taking the ratio of the two\n",
    "\n",
    "\n",
    "| Breed | Adoption Ratio |\n",
    "| ------ | ------ |\n",
    "| Pit Bull Mix | 0.3744694230466908 |\n",
    "| Chihuahua Shorthair Mix | 0.47045547804677884 |\n",
    "| Labrador Retriever Mix | 0.4957723241905548 |\n",
    "| German Shepherd Mix | 0.47635993899339096 |\n",
    "| Australian Cattle Dog Mix | 0.5566546762589928 |\n"
   ]
  },
  {
   "cell_type": "markdown",
   "metadata": {},
   "source": [
    "# Question 6 \n",
    "* What are the adoption rates for different colorings?\n",
    "    - Find the top 5 colorings in the shelter (based on count) and then find the adoption percentage of each color."
   ]
  },
  {
   "cell_type": "code",
   "execution_count": 370,
   "metadata": {},
   "outputs": [
    {
     "data": {
      "text/plain": [
       "color\n",
       "Black/White                    5276\n",
       "Black                          2547\n",
       "Brown/White                    2503\n",
       "Tan/White                      2477\n",
       "White                          2387\n",
       "                               ... \n",
       "Brown Brindle/Brown Brindle       1\n",
       "Tan/Apricot                       1\n",
       "White/Brown Tiger                 1\n",
       "Black Smoke/Black                 1\n",
       "Red Merle/Red Merle               1\n",
       "Name: count, Length: 339, dtype: int64"
      ]
     },
     "execution_count": 370,
     "metadata": {},
     "output_type": "execute_result"
    }
   ],
   "source": [
    "#this is basically the same as the last question but with color instead of Breed\n",
    "dogColorTotals = outcomes[outcomes['animal_type'] == 'Dog']['color'].value_counts()\n",
    "dogColorTotals"
   ]
  },
  {
   "cell_type": "code",
   "execution_count": 371,
   "metadata": {},
   "outputs": [
    {
     "data": {
      "text/plain": [
       "color\n",
       "Black/White               2610\n",
       "Tan/White                 1178\n",
       "Brown/White               1123\n",
       "Black                     1089\n",
       "Tricolor                   969\n",
       "                          ... \n",
       "Gold/Cream                   1\n",
       "Tricolor/Brown Brindle       1\n",
       "Cream/Silver                 1\n",
       "Gold/Black                   1\n",
       "Black/Blue                   1\n",
       "Name: count, Length: 260, dtype: int64"
      ]
     },
     "execution_count": 371,
     "metadata": {},
     "output_type": "execute_result"
    }
   ],
   "source": [
    "dogColorAdoptions = outcomes[(outcomes.animal_type == 'Dog') & (outcomes.outcome_type == 'Adoption')]['color'].value_counts()\n",
    "dogColorAdoptions"
   ]
  },
  {
   "cell_type": "code",
   "execution_count": 373,
   "metadata": {},
   "outputs": [
    {
     "data": {
      "text/plain": [
       "color\n",
       "Agouti              0.500000\n",
       "Apricot             0.527273\n",
       "Apricot/Brown            NaN\n",
       "Apricot/Tricolor         NaN\n",
       "Apricot/White       0.300000\n",
       "                      ...   \n",
       "Yellow/Cream        0.500000\n",
       "Yellow/Gray              NaN\n",
       "Yellow/Tan          0.500000\n",
       "Yellow/White        0.432432\n",
       "Yellow/Yellow            NaN\n",
       "Name: count, Length: 339, dtype: float64"
      ]
     },
     "execution_count": 373,
     "metadata": {},
     "output_type": "execute_result"
    }
   ],
   "source": [
    "dogColorAdoptionPercentage = dogColorAdoptions/dogColorTotals\n",
    "dogColorAdoptionPercentage"
   ]
  },
  {
   "cell_type": "code",
   "execution_count": 376,
   "metadata": {},
   "outputs": [
    {
     "data": {
      "text/plain": [
       "{'Black/White': 0.49469294920394236,\n",
       " 'Tan/White': 0.47557529269277354,\n",
       " 'Brown/White': 0.44866160607271277,\n",
       " 'Black': 0.4275618374558304,\n",
       " 'Tricolor': 0.4881612090680101}"
      ]
     },
     "execution_count": 376,
     "metadata": {},
     "output_type": "execute_result"
    }
   ],
   "source": [
    "top5ColorAndAdoptionRates = {'Black/White':dogColorAdoptionPercentage.loc['Black/White'], 'Tan/White': dogColorAdoptionPercentage.loc['Tan/White'], 'Brown/White':dogColorAdoptionPercentage.loc['Brown/White'], 'Black': dogColorAdoptionPercentage.loc['Black'], 'Tricolor': dogColorAdoptionPercentage.loc['Tricolor']}\n",
    "top5ColorAndAdoptionRates"
   ]
  },
  {
   "cell_type": "markdown",
   "metadata": {},
   "source": [
    "# Final Answer - Top 5 color and adoption rate\n",
    "the logic mirrors the last problem exactly\n",
    "| color | Adoption Rate |\n",
    "| ------ | ------ |\n",
    "|Black/White| 0.49469294920394236|\n",
    " |Tan/White| 0.47557529269277354|\n",
    " |Brown/White| 0.44866160607271277|\n",
    " |Black| 0.4275618374558304|\n",
    " |Tricolor| 0.4881612090680101|"
   ]
  },
  {
   "cell_type": "markdown",
   "metadata": {},
   "source": [
    "# Question 7\n",
    "* About how many animals are spayed/neutered each month?\n",
    "    - This will help the shelter allocate resources and staff. Assume that all intact males and females will be spayed/neutered."
   ]
  },
  {
   "cell_type": "code",
   "execution_count": 419,
   "metadata": {},
   "outputs": [
    {
     "data": {
      "text/plain": [
       "(animal_id                   object\n",
       " animal_type                 object\n",
       " breed                       object\n",
       " color                       object\n",
       " datetime            datetime64[ns]\n",
       " datetime2                   object\n",
       " found_location              object\n",
       " intake_condition            object\n",
       " intake_type                 object\n",
       " name                        object\n",
       " sex_upon_intake             object\n",
       " dtype: object,\n",
       " animal_id_outcome                     object\n",
       " date_of_birth                 datetime64[ns]\n",
       " outcome_subtype                       object\n",
       " outcome_type                          object\n",
       " sex_upon_outcome                      object\n",
       " age_upon_outcome_(days)                int64\n",
       " age_upon_outcome_(years)             float64\n",
       " age_upon_outcome_age_group            object\n",
       " outcome_datetime                      object\n",
       " outcome_month                          int64\n",
       " outcome_year                           int64\n",
       " outcome_monthyear                     object\n",
       " outcome_weekday                       object\n",
       " outcome_hour                           int64\n",
       " outcome_number                       float64\n",
       " dob_year                               int64\n",
       " dob_month                              int64\n",
       " dob_monthyear                         object\n",
       " age_upon_intake                       object\n",
       " animal_id_intake                      object\n",
       " animal_type                           object\n",
       " breed                                 object\n",
       " color                                 object\n",
       " found_location                        object\n",
       " intake_condition                      object\n",
       " intake_type                           object\n",
       " sex_upon_intake                       object\n",
       " count                                  int64\n",
       " age_upon_intake_(days)                 int64\n",
       " age_upon_intake_(years)              float64\n",
       " age_upon_intake_age_group             object\n",
       " intake_datetime               datetime64[ns]\n",
       " intake_month                           int64\n",
       " intake_year                            int64\n",
       " intake_monthyear                      object\n",
       " intake_weekday                        object\n",
       " intake_hour                            int64\n",
       " intake_number                        float64\n",
       " time_in_shelter                       object\n",
       " time_in_shelter_days                 float64\n",
       " dtype: object,\n",
       " animal_id                   object\n",
       " animal_type                 object\n",
       " breed                       object\n",
       " color                       object\n",
       " date_of_birth       datetime64[ns]\n",
       " datetime            datetime64[ns]\n",
       " monthyear                   object\n",
       " name                        object\n",
       " outcome_subtype             object\n",
       " outcome_type                object\n",
       " sex_upon_outcome            object\n",
       " dtype: object)"
      ]
     },
     "execution_count": 419,
     "metadata": {},
     "output_type": "execute_result"
    }
   ],
   "source": [
    "intakes.dtypes, intakesOutcomes.dtypes, outcomes.dtypes"
   ]
  },
  {
   "cell_type": "code",
   "execution_count": 420,
   "metadata": {},
   "outputs": [
    {
     "data": {
      "text/plain": [
       "sex_upon_intake\n",
       "Intact Male      25488\n",
       "Intact Female    23860\n",
       "Neutered Male    12794\n",
       "Spayed Female    11231\n",
       "Unknown           6813\n",
       "Name: count, dtype: int64"
      ]
     },
     "execution_count": 420,
     "metadata": {},
     "output_type": "execute_result"
    }
   ],
   "source": [
    "#what is the breakdown of sex_upon_intake?\n",
    "intakes['sex_upon_intake'].value_counts()\n"
   ]
  },
  {
   "cell_type": "code",
   "execution_count": 421,
   "metadata": {},
   "outputs": [
    {
     "data": {
      "text/plain": [
       "4071.0833333333335"
      ]
     },
     "execution_count": 421,
     "metadata": {},
     "output_type": "execute_result"
    }
   ],
   "source": [
    "intactMaleOrFemaleCondition = (intakes['sex_upon_intake'] =='Intact Male') | (intakes['sex_upon_intake'] == 'Intact Female')\n",
    "intactMaleOrFemale =intakes[intactMaleOrFemaleCondition]\n",
    "monthlyIntakeData = intactMaleOrFemale.merge(intakesOutcomes, left_on=['animal_id','datetime','sex_upon_intake'], right_on=['animal_id_outcome','intake_datetime','sex_upon_intake'])\n",
    "monthlyIntakeData['intake_month'].value_counts().sort_index().mean()\n"
   ]
  },
  {
   "cell_type": "markdown",
   "metadata": {},
   "source": [
    "# Final Answer - How many spayed/neutered?\n",
    "\n",
    "It follows from the assumption that all intake male and females are neutered that I should be using 'intake_month' counts to detemine the mean value of males and females neutered.  First, I grabbed only the intake records where \"sex_upon_intake\" was either Male or Female intact and merged with intakeOutcomes to get all the corresponding data for months.  Then I averaged the month counts.  \n",
    "\n",
    "4071.0833333333335"
   ]
  },
  {
   "cell_type": "code",
   "execution_count": null,
   "metadata": {},
   "outputs": [],
   "source": []
  },
  {
   "cell_type": "code",
   "execution_count": null,
   "metadata": {},
   "outputs": [],
   "source": []
  },
  {
   "cell_type": "markdown",
   "metadata": {},
   "source": []
  },
  {
   "cell_type": "markdown",
   "metadata": {},
   "source": []
  }
 ],
 "metadata": {
  "kernelspec": {
   "display_name": "Python 3 (ipykernel)",
   "language": "python",
   "name": "python3"
  },
  "language_info": {
   "codemirror_mode": {
    "name": "ipython",
    "version": 3
   },
   "file_extension": ".py",
   "mimetype": "text/x-python",
   "name": "python",
   "nbconvert_exporter": "python",
   "pygments_lexer": "ipython3",
   "version": "3.12.0"
  }
 },
 "nbformat": 4,
 "nbformat_minor": 5
}
